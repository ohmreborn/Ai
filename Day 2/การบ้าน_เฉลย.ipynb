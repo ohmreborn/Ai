{
  "nbformat": 4,
  "nbformat_minor": 0,
  "metadata": {
    "colab": {
      "private_outputs": true,
      "provenance": [],
      "authorship_tag": "ABX9TyOD6paNv/ZGc/wHakrjq5zN",
      "include_colab_link": true
    },
    "kernelspec": {
      "name": "python3",
      "display_name": "Python 3"
    },
    "language_info": {
      "name": "python"
    }
  },
  "cells": [
    {
      "cell_type": "markdown",
      "metadata": {
        "id": "view-in-github",
        "colab_type": "text"
      },
      "source": [
        "<a href=\"https://colab.research.google.com/github/ohmreborn/Ai/blob/main/Day%202/%E0%B8%81%E0%B8%B2%E0%B8%A3%E0%B8%9A%E0%B9%89%E0%B8%B2%E0%B8%99_%E0%B9%80%E0%B8%89%E0%B8%A5%E0%B8%A2.ipynb\" target=\"_parent\"><img src=\"https://colab.research.google.com/assets/colab-badge.svg\" alt=\"Open In Colab\"/></a>"
      ]
    },
    {
      "cell_type": "code",
      "execution_count": null,
      "metadata": {
        "id": "II_ErLQthzuT"
      },
      "outputs": [],
      "source": [
        "!wget https://raw.githubusercontent.com/ohmreborn/Ai/main/Day%202/Student_Marks.csv"
      ]
    },
    {
      "cell_type": "code",
      "source": [
        "import plotly.graph_objs as go\n",
        "import plotly.express as px\n",
        "from sklearn.cluster import KMeans\n",
        "from sklearn.datasets import make_blobs\n",
        "from sklearn.preprocessing import StandardScaler\n",
        "import pandas as pd\n",
        "import numpy as np"
      ],
      "metadata": {
        "id": "Tu1acu8uh-bg"
      },
      "execution_count": null,
      "outputs": []
    },
    {
      "cell_type": "code",
      "source": [
        "df = pd.read_csv('Student_Marks.csv')\n",
        "df.head()"
      ],
      "metadata": {
        "id": "GagbIdSGiQ6D"
      },
      "execution_count": null,
      "outputs": []
    },
    {
      "cell_type": "code",
      "source": [
        "df['number_courses'].min()"
      ],
      "metadata": {
        "id": "GM2wcTRWjujp"
      },
      "execution_count": null,
      "outputs": []
    },
    {
      "cell_type": "code",
      "source": [
        "px.scatter(df,x='time_study',y='Marks',color='number_courses')"
      ],
      "metadata": {
        "id": "ZbNeb3xEiYkP"
      },
      "execution_count": null,
      "outputs": []
    },
    {
      "cell_type": "code",
      "source": [
        "scale = StandardScaler()\n",
        "feature = scale.fit_transform(df[['time_study',\t'Marks']])"
      ],
      "metadata": {
        "id": "NWDB-mTwi0wN"
      },
      "execution_count": null,
      "outputs": []
    },
    {
      "cell_type": "code",
      "source": [
        "\n",
        "model = KMeans(\n",
        "    init=\"random\",\n",
        "    n_clusters=6,\n",
        "    n_init=10,\n",
        "    max_iter=300,\n",
        "    random_state=42\n",
        ")"
      ],
      "metadata": {
        "id": "8ow-kzIKkoeq"
      },
      "execution_count": null,
      "outputs": []
    },
    {
      "cell_type": "code",
      "source": [
        "model.fit(feature)"
      ],
      "metadata": {
        "id": "R2NDW8Qsk1EH"
      },
      "execution_count": null,
      "outputs": []
    },
    {
      "cell_type": "code",
      "source": [
        "c = model.cluster_centers_\n",
        "c\n",
        "     "
      ],
      "metadata": {
        "id": "N1NUBU8Xk26S"
      },
      "execution_count": null,
      "outputs": []
    },
    {
      "cell_type": "code",
      "source": [
        "\n",
        "marker1 = marker={'color': 'LightSkyBlue',\n",
        "                'size': 20,\n",
        "                }\n",
        "\n",
        "marker2 = marker={'color': 'RED',\n",
        "                'size': 20,\n",
        "                }\n",
        "\n",
        "marker3 = marker={'color': 'Green',\n",
        "                'size': 20,\n",
        "                }\n",
        "\n",
        "marker4 = marker={'color': 'purple',\n",
        "                'size': 20,\n",
        "                }\n",
        "\n",
        "marker5 = marker={'color': 'Black',\n",
        "                'size': 20,\n",
        "                }\n",
        "          \n",
        "marker5 = marker={'color': 'brown',\n",
        "                'size': 20,\n",
        "                }"
      ],
      "metadata": {
        "id": "ejqo931Hl6_f"
      },
      "execution_count": null,
      "outputs": []
    },
    {
      "cell_type": "code",
      "source": [
        "df['x'] = feature[:,0]\n",
        "df['y'] = feature[:,1]\n",
        "df.head()"
      ],
      "metadata": {
        "id": "NdRyaObFngEH"
      },
      "execution_count": null,
      "outputs": []
    },
    {
      "cell_type": "code",
      "source": [
        "show = [\n",
        "    # go.Scatter(x=feature[:,0],y=feature[:,1],mode='markers',name='data'),\n",
        "    go.Scatter(x=[c[0,0]],y=[c[0,1]],mode='markers',marker=marker1,name='เรียน 3 ครั้ง'),\n",
        "    go.Scatter(x=[c[1,0]],y=[c[1,1]],mode='markers',marker=marker2,name='เรียน 4 ครั้ง'),\n",
        "    go.Scatter(x=[c[2,0]],y=[c[2,1]],mode='markers',marker=marker3,name='เรียน 5 ครั้ง'),\n",
        "    go.Scatter(x=[c[3,0]],y=[c[3,1]],mode='markers',marker=marker4,name='เรียน 6 ครั้ง'),\n",
        "    go.Scatter(x=[c[4,0]],y=[c[4,1]],mode='markers',marker=marker5,name='เรียน 7 ครั้ง'),\n",
        "    go.Scatter(x=[c[5,0]],y=[c[5,1]],mode='markers',marker=marker5,name='เรียน 8 ครั้ง'),\n",
        "]\n",
        "\n",
        "for i in range(3,9):\n",
        "  x = df[df['number_courses']==i]['x']\n",
        "  y = df[df['number_courses']==i]['y']\n",
        "  trace = go.Scatter(x=x,y=y,mode='markers',name=f'center เรียน{i}')\n",
        "  show.append(trace)"
      ],
      "metadata": {
        "id": "eCZliNWnk7_Y"
      },
      "execution_count": null,
      "outputs": []
    },
    {
      "cell_type": "code",
      "source": [
        "fig = go.Figure(data=show)\n",
        "fig.show()"
      ],
      "metadata": {
        "id": "cjP54C_vlbTu"
      },
      "execution_count": null,
      "outputs": []
    },
    {
      "cell_type": "code",
      "source": [],
      "metadata": {
        "id": "dF_xmuAklvHk"
      },
      "execution_count": null,
      "outputs": []
    }
  ]
}