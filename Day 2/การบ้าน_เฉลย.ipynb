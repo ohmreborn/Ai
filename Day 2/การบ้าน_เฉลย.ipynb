{
  "nbformat": 4,
  "nbformat_minor": 0,
  "metadata": {
    "colab": {
      "private_outputs": true,
      "provenance": [],
      "authorship_tag": "ABX9TyM9cZhGzo22GYuf1Ewtlsaq",
      "include_colab_link": true
    },
    "kernelspec": {
      "name": "python3",
      "display_name": "Python 3"
    },
    "language_info": {
      "name": "python"
    }
  },
  "cells": [
    {
      "cell_type": "markdown",
      "metadata": {
        "id": "view-in-github",
        "colab_type": "text"
      },
      "source": [
        "<a href=\"https://colab.research.google.com/github/ohmreborn/Ai/blob/main/Day%202/%E0%B8%81%E0%B8%B2%E0%B8%A3%E0%B8%9A%E0%B9%89%E0%B8%B2%E0%B8%99_%E0%B9%80%E0%B8%89%E0%B8%A5%E0%B8%A2.ipynb\" target=\"_parent\"><img src=\"https://colab.research.google.com/assets/colab-badge.svg\" alt=\"Open In Colab\"/></a>"
      ]
    },
    {
      "cell_type": "code",
      "execution_count": null,
      "metadata": {
        "id": "II_ErLQthzuT"
      },
      "outputs": [],
      "source": [
        "!wget https://raw.githubusercontent.com/ohmreborn/Ai/main/Day%202/Student_Marks.csv"
      ]
    },
    {
      "cell_type": "code",
      "source": [
        "import plotly.graph_objs as go\n",
        "import plotly.express as px\n",
        "from sklearn.cluster import KMeans\n",
        "from sklearn.datasets import make_blobs\n",
        "from sklearn.preprocessing import StandardScaler\n",
        "import pandas as pd\n",
        "import numpy as np"
      ],
      "metadata": {
        "id": "Tu1acu8uh-bg"
      },
      "execution_count": null,
      "outputs": []
    },
    {
      "cell_type": "code",
      "source": [
        "df = pd.read_csv('Student_Marks.csv')\n",
        "df.head()"
      ],
      "metadata": {
        "id": "GagbIdSGiQ6D"
      },
      "execution_count": null,
      "outputs": []
    },
    {
      "cell_type": "code",
      "source": [
        "df['number_courses'].min()"
      ],
      "metadata": {
        "id": "GM2wcTRWjujp"
      },
      "execution_count": null,
      "outputs": []
    },
    {
      "cell_type": "code",
      "source": [
        "px.scatter(df,x='time_study',y='Marks',color='number_courses')"
      ],
      "metadata": {
        "id": "ZbNeb3xEiYkP"
      },
      "execution_count": null,
      "outputs": []
    },
    {
      "cell_type": "code",
      "source": [
        "scale = StandardScaler()\n",
        "feature = scale.fit_transform(df[['time_study',\t'Marks']])"
      ],
      "metadata": {
        "id": "NWDB-mTwi0wN"
      },
      "execution_count": null,
      "outputs": []
    },
    {
      "cell_type": "code",
      "source": [
        "\n",
        "model = KMeans(\n",
        "    init=\"random\",\n",
        "    n_clusters=len(df['number_courses'].unique()),\n",
        "    n_init=10,\n",
        "    max_iter=300,\n",
        "    random_state=42\n",
        ")"
      ],
      "metadata": {
        "id": "8ow-kzIKkoeq"
      },
      "execution_count": null,
      "outputs": []
    },
    {
      "cell_type": "code",
      "source": [
        "model.fit(feature)"
      ],
      "metadata": {
        "id": "R2NDW8Qsk1EH"
      },
      "execution_count": null,
      "outputs": []
    },
    {
      "cell_type": "code",
      "source": [
        "c = model.cluster_centers_\n",
        "c\n",
        "     "
      ],
      "metadata": {
        "id": "N1NUBU8Xk26S"
      },
      "execution_count": null,
      "outputs": []
    },
    {
      "cell_type": "code",
      "source": [
        "\n",
        "marker = [{'color': 'LightSkyBlue',\n",
        "          'size': 20,\n",
        "                          },\n",
        "\n",
        "          {'color': 'green',\n",
        "                          'size': 20,\n",
        "                          },\n",
        "\n",
        "          {'color': 'orange',\n",
        "                          'size': 20,\n",
        "                          },\n",
        "\n",
        "          {'color': 'purple',\n",
        "                          'size': 20,\n",
        "                          },\n",
        "\n",
        "          {'color': 'Black',\n",
        "                          'size': 20,\n",
        "                          },\n",
        "                    \n",
        "          {'color': 'brown',\n",
        "                          'size': 20,\n",
        "                }]"
      ],
      "metadata": {
        "id": "ejqo931Hl6_f"
      },
      "execution_count": null,
      "outputs": []
    },
    {
      "cell_type": "code",
      "source": [
        "show = []\n",
        "\n",
        "for i,mark in enumerate(marker):\n",
        "  x = df[df['number_courses']==i+3]['x']\n",
        "  y = df[df['number_courses']==i+3]['y']\n",
        "  trace_data = go.Scatter(x=x,y=y,mode='markers',name=f'data เรียน{i+3}')\n",
        "  trace_center = go.Scatter(x=[c[i,0]],y=[c[i,1]],marker=mark,name=f'center เรียน {i+3} ครั้ง')\n",
        "  show.append(trace_data)\n",
        "  show.append(trace_center)\n"
      ],
      "metadata": {
        "id": "eCZliNWnk7_Y"
      },
      "execution_count": null,
      "outputs": []
    },
    {
      "cell_type": "code",
      "source": [
        "fig = go.Figure(data=show)\n",
        "fig.show()"
      ],
      "metadata": {
        "id": "cjP54C_vlbTu"
      },
      "execution_count": null,
      "outputs": []
    },
    {
      "cell_type": "code",
      "source": [],
      "metadata": {
        "id": "dF_xmuAklvHk"
      },
      "execution_count": null,
      "outputs": []
    }
  ]
}