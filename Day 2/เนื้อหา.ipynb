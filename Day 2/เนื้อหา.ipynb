{
  "nbformat": 4,
  "nbformat_minor": 0,
  "metadata": {
    "colab": {
      "private_outputs": true,
      "provenance": [],
      "authorship_tag": "ABX9TyNCoUCuiMCBbUolO6OfGj9j",
      "include_colab_link": true
    },
    "kernelspec": {
      "name": "python3",
      "display_name": "Python 3"
    },
    "language_info": {
      "name": "python"
    }
  },
  "cells": [
    {
      "cell_type": "markdown",
      "metadata": {
        "id": "view-in-github",
        "colab_type": "text"
      },
      "source": [
        "<a href=\"https://colab.research.google.com/github/ohmreborn/Ai/blob/main/Day%202/%E0%B9%80%E0%B8%99%E0%B8%B7%E0%B9%89%E0%B8%AD%E0%B8%AB%E0%B8%B2.ipynb\" target=\"_parent\"><img src=\"https://colab.research.google.com/assets/colab-badge.svg\" alt=\"Open In Colab\"/></a>"
      ]
    },
    {
      "cell_type": "code",
      "source": [
        "import plotly.graph_objs as go\n",
        "from sklearn.cluster import KMeans\n",
        "from sklearn.datasets import make_blobs\n",
        "from sklearn.preprocessing import StandardScaler\n",
        "import pandas as pd\n",
        "import numpy as np"
      ],
      "metadata": {
        "id": "MSPJ_YX5P6PA"
      },
      "execution_count": null,
      "outputs": []
    },
    {
      "cell_type": "code",
      "source": [
        "feature, label = make_blobs(\n",
        "    n_samples=200,\n",
        "    centers=3,\n",
        "    cluster_std=2.75,\n",
        "    random_state=42\n",
        ")"
      ],
      "metadata": {
        "id": "NhLrMpDMSMvE"
      },
      "execution_count": null,
      "outputs": []
    },
    {
      "cell_type": "code",
      "source": [
        "model = KMeans(\n",
        "    init=\"random\",\n",
        "    n_clusters=3,\n",
        "    n_init=10,\n",
        "    max_iter=300,\n",
        "    random_state=42\n",
        ")"
      ],
      "metadata": {
        "id": "UOTNSCZcSNEo"
      },
      "execution_count": null,
      "outputs": []
    },
    {
      "cell_type": "code",
      "source": [
        "scaler = StandardScaler()\n",
        "scaler_feature = scaler.fit_transform(feature)"
      ],
      "metadata": {
        "id": "G9IvVwzzSSss"
      },
      "execution_count": null,
      "outputs": []
    },
    {
      "cell_type": "code",
      "source": [
        "scaler_feature.shape"
      ],
      "metadata": {
        "id": "pOSQK484fl8R"
      },
      "execution_count": null,
      "outputs": []
    },
    {
      "cell_type": "code",
      "source": [
        "model.fit(scaler_feature)"
      ],
      "metadata": {
        "id": "J4pz9MoJSVBm"
      },
      "execution_count": null,
      "outputs": []
    },
    {
      "cell_type": "code",
      "source": [
        "c = model.cluster_centers_\n",
        "c"
      ],
      "metadata": {
        "id": "78SIoCQeSatk"
      },
      "execution_count": null,
      "outputs": []
    },
    {
      "cell_type": "code",
      "source": [
        "marker1 = marker={'color': 'LightSkyBlue',\n",
        "                'size': 20,\n",
        "                }\n",
        "\n",
        "marker2 = marker={'color': 'RED',\n",
        "                'size': 20,\n",
        "                }\n",
        "\n",
        "marker3 = marker={'color': 'Green',\n",
        "                'size': 20,\n",
        "                }"
      ],
      "metadata": {
        "id": "_KbttjfiU0-d"
      },
      "execution_count": null,
      "outputs": []
    },
    {
      "cell_type": "code",
      "source": [
        "scaler_feature[:,0]"
      ],
      "metadata": {
        "id": "cvNkT5cEWwZ5"
      },
      "execution_count": null,
      "outputs": []
    },
    {
      "cell_type": "code",
      "source": [
        "scaler_feature[:,1]"
      ],
      "metadata": {
        "id": "AbDOHBFmWzUU"
      },
      "execution_count": null,
      "outputs": []
    },
    {
      "cell_type": "code",
      "source": [
        "data = [go.Scatter(x=scaler_feature[:,0],y=scaler_feature[:,1],mode='markers',name='data'),\n",
        "        go.Scatter(x=[c[0,0]],  y=[c[0,1]],mode='markers',name='center1',marker=marker1),\n",
        "        go.Scatter(x=[c[1,0]],  y=[c[1,1]],mode='markers',name='center2',marker=marker2),\n",
        "        go.Scatter(x=[c[2,0]],  y=[c[2,1]],mode='markers',name='center3',marker=marker3)]\n",
        "        "
      ],
      "metadata": {
        "id": "ucuJdxN2S1b8"
      },
      "execution_count": null,
      "outputs": []
    },
    {
      "cell_type": "code",
      "source": [
        "fig = go.Figure(data=data,)\n",
        "fig.show()"
      ],
      "metadata": {
        "id": "aPspb52USwm1"
      },
      "execution_count": null,
      "outputs": []
    },
    {
      "cell_type": "code",
      "source": [],
      "metadata": {
        "id": "5bWsUptfYQDl"
      },
      "execution_count": null,
      "outputs": []
    }
  ]
}