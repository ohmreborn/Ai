{
  "nbformat": 4,
  "nbformat_minor": 0,
  "metadata": {
    "colab": {
      "private_outputs": true,
      "provenance": [],
      "authorship_tag": "ABX9TyO9XpkTbUs5aQD8wLozbsOe",
      "include_colab_link": true
    },
    "kernelspec": {
      "name": "python3",
      "display_name": "Python 3"
    },
    "language_info": {
      "name": "python"
    }
  },
  "cells": [
    {
      "cell_type": "markdown",
      "metadata": {
        "id": "view-in-github",
        "colab_type": "text"
      },
      "source": [
        "<a href=\"https://colab.research.google.com/github/ohmreborn/Ai/blob/main/evaluate/evaluate.ipynb\" target=\"_parent\"><img src=\"https://colab.research.google.com/assets/colab-badge.svg\" alt=\"Open In Colab\"/></a>"
      ]
    },
    {
      "cell_type": "code",
      "source": [
        "import pandas as pd\n",
        "df = pd.read_csv('/content/results.csv')\n",
        "df.head()"
      ],
      "metadata": {
        "id": "a7oBstOA9qH0"
      },
      "execution_count": null,
      "outputs": []
    },
    {
      "cell_type": "code",
      "source": [
        "sample = df.groupby('จงเลือกว่าอยากจะทำชุดไหน')\n"
      ],
      "metadata": {
        "id": "mFUEQsdv_54n"
      },
      "execution_count": null,
      "outputs": []
    },
    {
      "cell_type": "code",
      "source": [
        "def mean(data):\n",
        "  return sum([int(i[0]) for i in data])/len(data)"
      ],
      "metadata": {
        "id": "7D4aM2B3Cd9e"
      },
      "execution_count": null,
      "outputs": []
    },
    {
      "cell_type": "code",
      "source": [
        "big_data = []\n",
        "for i,dataframe in sample:\n",
        "  dataframe.dropna(axis='columns',inplace=True)\n",
        "  dataframe.drop(['จงเลือกว่าอยากจะทำชุดไหน'],axis=1,inplace=True)\n",
        "  big_data += [mean(dataframe[col].values) for col in dataframe.columns]"
      ],
      "metadata": {
        "id": "BAI_5PvGABil"
      },
      "execution_count": null,
      "outputs": []
    },
    {
      "cell_type": "code",
      "source": [
        "col_name = ['ความถูกต้องของคำตอบ',\n",
        "'ความถูกต้องของคำถาม',\n",
        "'ความสร้างสรรค์ของคำตอบ',\n",
        "'ความสร้างสรรค์ของคำถาม']"
      ],
      "metadata": {
        "id": "wR9Aj5-7-6AD"
      },
      "execution_count": null,
      "outputs": []
    },
    {
      "cell_type": "code",
      "source": [
        "import numpy as np\n",
        "col_name = ['ความถูกต้องของคำตอบ',\n",
        "'ความถูกต้องของคำถาม',\n",
        "'ความสร้างสรรค์ของคำตอบ',\n",
        "'ความสร้างสรรค์ของคำถาม']\n",
        "\n",
        "\n",
        "data = np.array(big_data).reshape(-1,4)\n",
        "data = pd.DataFrame(data,columns=col_name)\n",
        "data.head()"
      ],
      "metadata": {
        "id": "3kr1ezQXG7HH"
      },
      "execution_count": null,
      "outputs": []
    },
    {
      "cell_type": "code",
      "source": [
        "data = data.mean()\n",
        "data"
      ],
      "metadata": {
        "id": "y6cMCcarJaPp"
      },
      "execution_count": null,
      "outputs": []
    },
    {
      "cell_type": "code",
      "source": [
        "import plotly.express as px\n",
        "fig = px.bar(x=data.index, y=data.values,color=['red','blue','red','blue'])\n",
        "fig.show()"
      ],
      "metadata": {
        "id": "5ZOOAkuOWOuX"
      },
      "execution_count": null,
      "outputs": []
    },
    {
      "cell_type": "code",
      "source": [
        "!pip uninstall -y  kaleido"
      ],
      "metadata": {
        "id": "1abYbC0b_yYt"
      },
      "execution_count": null,
      "outputs": []
    },
    {
      "cell_type": "code",
      "source": [
        "!pip install -U kaleido"
      ],
      "metadata": {
        "id": "ZtNDYOjwtsAQ"
      },
      "execution_count": null,
      "outputs": []
    },
    {
      "cell_type": "code",
      "source": [
        "!mkdir images"
      ],
      "metadata": {
        "id": "9wbyn_2t_mKc"
      },
      "execution_count": null,
      "outputs": []
    },
    {
      "cell_type": "code",
      "source": [
        "fig.write_image(\"images/fig1.png\")"
      ],
      "metadata": {
        "id": "U3Xf8LXu_evg"
      },
      "execution_count": null,
      "outputs": []
    },
    {
      "cell_type": "code",
      "source": [],
      "metadata": {
        "id": "GG2NlkaH_nZK"
      },
      "execution_count": null,
      "outputs": []
    }
  ]
}