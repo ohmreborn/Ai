{
  "nbformat": 4,
  "nbformat_minor": 0,
  "metadata": {
    "colab": {
      "private_outputs": true,
      "provenance": [],
      "authorship_tag": "ABX9TyPtpDzhlAtubeFOnqjtbP41",
      "include_colab_link": true
    },
    "kernelspec": {
      "name": "python3",
      "display_name": "Python 3"
    },
    "language_info": {
      "name": "python"
    },
    "accelerator": "GPU",
    "gpuClass": "standard"
  },
  "cells": [
    {
      "cell_type": "markdown",
      "metadata": {
        "id": "view-in-github",
        "colab_type": "text"
      },
      "source": [
        "<a href=\"https://colab.research.google.com/github/ohmreborn/Ai/blob/main/Day%205/%E0%B9%80%E0%B8%99%E0%B8%B7%E0%B9%89%E0%B8%AD%E0%B8%AB%E0%B8%B2.ipynb\" target=\"_parent\"><img src=\"https://colab.research.google.com/assets/colab-badge.svg\" alt=\"Open In Colab\"/></a>"
      ]
    },
    {
      "cell_type": "code",
      "source": [
        "! git clone https://github.com/cstorm125/choco-raisin"
      ],
      "metadata": {
        "id": "dYRvjqVgQ12L"
      },
      "execution_count": null,
      "outputs": []
    },
    {
      "cell_type": "code",
      "execution_count": null,
      "metadata": {
        "id": "wPk3nOeqNy2J"
      },
      "outputs": [],
      "source": [
        "import torch\n",
        "import torch.nn as nn\n",
        "from torch.utils.data.dataloader import default_collate\n",
        "from torchvision import datasets, models, transforms\n",
        "from torch.utils.data import DataLoader\n",
        "import matplotlib.pyplot as plt\n",
        "import tqdm\n",
        "import numpy as np"
      ]
    },
    {
      "cell_type": "code",
      "source": [
        "train_transform = transforms.Compose([\n",
        "    transforms.Resize(256),\n",
        "    transforms.RandomHorizontalFlip(p=0.5),\n",
        "    transforms.TrivialAugmentWide(),\n",
        "    transforms.CenterCrop(224),\n",
        "    transforms.ToTensor(),\n",
        "    transforms.Normalize(mean=(0.485, 0.456, 0.406), std=(0.229, 0.224, 0.225))\n",
        "])\n",
        "val_transform = transforms.Compose([\n",
        "    transforms.Resize((224,224)),\n",
        "    transforms.ToTensor(),\n",
        "    transforms.Normalize(mean=(0.485, 0.456, 0.406), std=(0.229, 0.224, 0.225),)\n",
        "])"
      ],
      "metadata": {
        "id": "XsUo-Zr6UQ9T"
      },
      "execution_count": null,
      "outputs": []
    },
    {
      "cell_type": "code",
      "source": [
        "device = torch.device('cuda' if torch.cuda.is_available() else 'cpu')\n",
        "device "
      ],
      "metadata": {
        "id": "93eJ-ximaCxh"
      },
      "execution_count": null,
      "outputs": []
    },
    {
      "cell_type": "code",
      "source": [
        "train_data = datasets.ImageFolder(\"/content/choco-raisin/images/train\", transform=train_transform)\n",
        "val_data = datasets.ImageFolder(\"/content/choco-raisin/images/valid\", transform=val_transform)"
      ],
      "metadata": {
        "id": "200zUQMDVdbA"
      },
      "execution_count": null,
      "outputs": []
    },
    {
      "cell_type": "code",
      "source": [
        "train_loader = DataLoader(train_data, batch_size=32, shuffle=True, collate_fn=lambda x: tuple(x_.to(device) for x_ in default_collate(x)))\n",
        "val_loader = DataLoader(val_data, batch_size=32, shuffle=False, collate_fn=lambda x: tuple(x_.to(device) for x_ in default_collate(x)))"
      ],
      "metadata": {
        "id": "CrkJIA9mZYcL"
      },
      "execution_count": null,
      "outputs": []
    },
    {
      "cell_type": "code",
      "source": [
        "images, labels = next(iter(train_loader))"
      ],
      "metadata": {
        "id": "NWVV3fB6ZvUJ"
      },
      "execution_count": null,
      "outputs": []
    },
    {
      "cell_type": "code",
      "source": [
        "with torch.no_grad():\n",
        "  idx2_class = {v: k for k, v in train_data.class_to_idx.items()}\n",
        "  fig = plt.figure(figsize=(25, 4))\n",
        "  for i in range(10):\n",
        "      image = np.transpose(images.cpu()[i])\n",
        "      label = idx2_class[labels.cpu().tolist()[i]]\n",
        "      ax = fig.add_subplot(2, 8, i + 1, xticks=[], yticks=[])\n",
        "      plt.imshow(image)\n",
        "      ax.set_title(label)"
      ],
      "metadata": {
        "id": "T8dE8dlSVkyt"
      },
      "execution_count": null,
      "outputs": []
    },
    {
      "cell_type": "code",
      "source": [
        "model = models.resnet34(pretrained=True)\n",
        "for param in model.parameters():\n",
        "    param.requires_grad = False\n",
        "model.fc = nn.Linear(in_features=512, out_features=len(train_data.classes))\n",
        "model"
      ],
      "metadata": {
        "id": "f7c8f7y_Xv8a"
      },
      "execution_count": null,
      "outputs": []
    },
    {
      "cell_type": "code",
      "source": [
        "model.to(device)\n",
        "print(next(model.parameters()).is_cuda)"
      ],
      "metadata": {
        "id": "edCtZNBeaR-P"
      },
      "execution_count": null,
      "outputs": []
    },
    {
      "cell_type": "code",
      "source": [
        "cross_entropy = nn.CrossEntropyLoss()\n",
        "optimizer = torch.optim.SGD(model.parameters(), lr=2e-3)"
      ],
      "metadata": {
        "id": "w07vRTDgZ4-b"
      },
      "execution_count": null,
      "outputs": []
    },
    {
      "cell_type": "code",
      "source": [
        "epoch = 1\n",
        "train_length = len(train_loader)\n",
        "val_length = len(val_loader)\n",
        "for i in range(epoch):\n",
        "  loss_train = []\n",
        "  loss_eval = []\n",
        "  model.train()\n",
        "  with tqdm.auto.tqdm(total=train_length, desc=\"train: \") as bar:\n",
        "    for images,label in train_loader:\n",
        "      optimizer.zero_grad()\n",
        "      output = model(images)\n",
        "      loss = cross_entropy(output,label)\n",
        "      loss.backward() # คำนวณ gradient จาก loss ที่ได้\n",
        "      optimizer.step()\n",
        "      with torch.no_grad():\n",
        "        loss_train.append(loss.item())\n",
        "        bar.update(1)\n",
        "        bar.set_description(f\"loss train={sum(loss_train)/len(loss_train):.2f}\")\n",
        "      \n",
        "  model.eval()\n",
        "  with tqdm.auto.tqdm(total=val_length, desc=\"validation: \") as bar:\n",
        "    for images,label in val_loader:\n",
        "      output = model(images)\n",
        "      with torch.no_grad():\n",
        "        loss = cross_entropy(output,label)\n",
        "        loss_eval.append(loss.item())\n",
        "        bar.update(1)  #\n",
        "        bar.set_description(f\"loss val={sum(loss_eval)/len(loss_eval):.2f}\")"
      ],
      "metadata": {
        "id": "gyqJcAoZalA1"
      },
      "execution_count": null,
      "outputs": []
    },
    {
      "cell_type": "code",
      "source": [
        "from sklearn.metrics import classification_report, accuracy_score, precision_recall_fscore_support# คำนวณหา classification report สำหรับ validation set\n",
        "y_pred, y_true = [], []\n",
        "model.eval()\n",
        "for images, labels in val_loader:\n",
        "    pred = model(images)\n",
        "    yp = pred.argmax(dim=1).tolist()\n",
        "    yt = labels.tolist()\n",
        "    y_pred.extend(yp)\n",
        "    y_true.extend(yt)\n",
        "print(classification_report(y_true, y_pred))"
      ],
      "metadata": {
        "id": "cXJy2AP3h9_L"
      },
      "execution_count": null,
      "outputs": []
    },
    {
      "cell_type": "code",
      "source": [
        "print(\"Accuracy on validation set = {}\".format(\n",
        "    accuracy_score(y_true, y_pred))\n",
        ")"
      ],
      "metadata": {
        "id": "Cxxiulrqi_Za"
      },
      "execution_count": null,
      "outputs": []
    }
  ]
}