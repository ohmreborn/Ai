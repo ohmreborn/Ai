{
  "nbformat": 4,
  "nbformat_minor": 0,
  "metadata": {
    "colab": {
      "private_outputs": true,
      "provenance": [],
      "authorship_tag": "ABX9TyM3Wj48Dml3ulUMIj7lFA1c",
      "include_colab_link": true
    },
    "kernelspec": {
      "name": "python3",
      "display_name": "Python 3"
    },
    "language_info": {
      "name": "python"
    }
  },
  "cells": [
    {
      "cell_type": "markdown",
      "metadata": {
        "id": "view-in-github",
        "colab_type": "text"
      },
      "source": [
        "<a href=\"https://colab.research.google.com/github/ohmreborn/Ai/blob/main/Day%201/%E0%B9%80%E0%B8%89%E0%B8%A5%E0%B8%A2.ipynb\" target=\"_parent\"><img src=\"https://colab.research.google.com/assets/colab-badge.svg\" alt=\"Open In Colab\"/></a>"
      ]
    },
    {
      "cell_type": "code",
      "execution_count": null,
      "metadata": {
        "id": "aVYsuGlyf9gv"
      },
      "outputs": [],
      "source": [
        "from sklearn.linear_model import LinearRegression\n",
        "import plotly.express as px\n",
        "import pandas as pd\n",
        "import operator\n",
        "import functools\n",
        "import plotly.graph_objs as go\n",
        "import numpy as np"
      ]
    },
    {
      "cell_type": "code",
      "source": [
        "!wget https://raw.githubusercontent.com/ohmreborn/Basic-for-Datasci/main/pandas-02/data-firearm.csv"
      ],
      "metadata": {
        "id": "DbywuTtTgdh2"
      },
      "execution_count": null,
      "outputs": []
    },
    {
      "cell_type": "code",
      "source": [
        "df = pd.read_csv('data-firearm.csv')\n",
        "Alabama = df[df['state']=='Alabama']\n"
      ],
      "metadata": {
        "id": "s6lRWRAKhQ8m"
      },
      "execution_count": null,
      "outputs": []
    },
    {
      "cell_type": "code",
      "source": [
        "model = LinearRegression()\n",
        "x,y = np.arange(len(Alabama['totals'])).reshape(-1,1),Alabama['totals']\n",
        "model.fit(x,y)"
      ],
      "metadata": {
        "id": "Ku72FnBPhq1H"
      },
      "execution_count": null,
      "outputs": []
    },
    {
      "cell_type": "code",
      "source": [
        "fig = go.Figure(data=[go.Scatter(x=Alabama['month'],y=Alabama['totals'],mode='markers',name='data'),\n",
        "go.Scatter(x=Alabama['month'],y=model.predict(x).flatten(),mode='lines',name='data')])\n",
        "\n"
      ],
      "metadata": {
        "id": "hd1oL_aDh4FA"
      },
      "execution_count": null,
      "outputs": []
    },
    {
      "cell_type": "code",
      "source": [
        "fig.show()"
      ],
      "metadata": {
        "id": "GSGHLGSIihbI"
      },
      "execution_count": null,
      "outputs": []
    },
    {
      "cell_type": "code",
      "source": [],
      "metadata": {
        "id": "deohWS1LkNyA"
      },
      "execution_count": null,
      "outputs": []
    }
  ]
}