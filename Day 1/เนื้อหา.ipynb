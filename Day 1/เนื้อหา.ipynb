{
  "nbformat": 4,
  "nbformat_minor": 0,
  "metadata": {
    "colab": {
      "private_outputs": true,
      "provenance": [],
      "authorship_tag": "ABX9TyObqbdjq9aWWJwNnqMW1ZZP",
      "include_colab_link": true
    },
    "kernelspec": {
      "name": "python3",
      "display_name": "Python 3"
    },
    "language_info": {
      "name": "python"
    }
  },
  "cells": [
    {
      "cell_type": "markdown",
      "metadata": {
        "id": "view-in-github",
        "colab_type": "text"
      },
      "source": [
        "<a href=\"https://colab.research.google.com/github/ohmreborn/Ai/blob/main/Day%201/%E0%B9%80%E0%B8%99%E0%B8%B7%E0%B9%89%E0%B8%AD%E0%B8%AB%E0%B8%B2.ipynb\" target=\"_parent\"><img src=\"https://colab.research.google.com/assets/colab-badge.svg\" alt=\"Open In Colab\"/></a>"
      ]
    },
    {
      "cell_type": "code",
      "execution_count": null,
      "metadata": {
        "id": "HYF4l-6cUZ0z"
      },
      "outputs": [],
      "source": [
        "! wget https://raw.githubusercontent.com/ohmreborn/Ai/main/Day%201/data-firearm.csv"
      ]
    },
    {
      "cell_type": "code",
      "source": [
        "from sklearn.linear_model import LinearRegression\n",
        "import matplotlib.pyplot as plt\n",
        "import numpy as np\n",
        "\n",
        "x = np.array([2,4,6,8,10,12,14]).reshape(-1, 1)\n",
        "y = np.array([6,10,11,22,25,30,55])\n",
        "\n",
        "plt.scatter(x,y)\n",
        "plt.show()"
      ],
      "metadata": {
        "id": "hB6x50KOUkHI"
      },
      "execution_count": null,
      "outputs": []
    },
    {
      "cell_type": "code",
      "source": [
        "model = LinearRegression()\n",
        "model.fit(x, y)"
      ],
      "metadata": {
        "id": "aKAkZ8QHU03g"
      },
      "execution_count": null,
      "outputs": []
    },
    {
      "cell_type": "code",
      "source": [
        "plt.scatter(x,y)\n",
        "plt.plot(x,model.predict(x),color='red')\n",
        "plt.show()"
      ],
      "metadata": {
        "id": "TtyW7pOmVJ5x"
      },
      "execution_count": null,
      "outputs": []
    },
    {
      "cell_type": "markdown",
      "source": [
        "# โจทย์โหลด data \n",
        "https://github.com/ohmreborn/Ai/blob/main/Day%201/data-firearm.csv"
      ],
      "metadata": {
        "id": "wkE9POb9VgxE"
      }
    },
    {
      "cell_type": "markdown",
      "source": [
        "1. ให้หาLineargressionของ รัฐ 'Alabama'"
      ],
      "metadata": {
        "id": "Bg3iqCI5VvnH"
      }
    }
  ]
}